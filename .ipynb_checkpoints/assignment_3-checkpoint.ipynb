{
 "cells": [
  {
   "cell_type": "markdown",
   "metadata": {},
   "source": [
    "## Sushma Rani Reddy Aleti"
   ]
  },
  {
   "cell_type": "markdown",
   "metadata": {},
   "source": [
    "Twitter accounts:\n",
    "    - Virat Kohli(@imVkohli)\n",
    "    - Sunil Chetri(@chetrisunil11)\n",
    "    - Arijit Singh(@ARIJIT__SINGH)\n",
    "\n",
    "\n",
    "\n",
    "\n",
    "    \n"
   ]
  },
  {
   "cell_type": "markdown",
   "metadata": {},
   "source": [
    "The below cell is used to retrieve information from Twitter and is stored in a pickle file."
   ]
  },
  {
   "cell_type": "code",
   "execution_count": 1,
   "metadata": {},
   "outputs": [],
   "source": [
    "# this cell is to retrieve information from Twitter and store in pickle file\n",
    "\n",
    "import pickle\n",
    "import tweepy\n",
    "from twitter_keys import consumer_key, consumer_secret, access_token, access_secret\n",
    "\n",
    "auth = tweepy.OAuthHandler(consumer_key, consumer_secret)\n",
    "auth.set_access_token( access_token, access_secret)\n",
    "\n",
    "api = tweepy.API(auth)\n",
    "\n",
    "kohli_tweets = api.user_timeline('@imVkohli')\n",
    "chetri_tweets = api.user_timeline('@chetrisunil11')\n",
    "arijit_tweets = api.user_timeline('@ARIJIT__SINGH')\n",
    "\n",
    "with open ('viratKohli.pkl', 'wb') as f:\n",
    "    pickle.dump(kohli_tweets, f)\n",
    "\n",
    "with open ('sunilChetri.pkl', 'wb') as f:\n",
    "    pickle.dump(chetri_tweets, f)\n",
    "    \n",
    "with open ('arijit.pkl', 'wb') as f:\n",
    "    pickle.dump(arijit_tweets, f)\n",
    "\n",
    "\n",
    "\n"
   ]
  },
  {
   "cell_type": "markdown",
   "metadata": {},
   "source": [
    "The below cell describes how to load cached data from the pickle file"
   ]
  },
  {
   "cell_type": "code",
   "execution_count": 2,
   "metadata": {},
   "outputs": [],
   "source": [
    "with open('viratKohli.pkl', 'rb') as f:\n",
    "    kohli_tweets = pickle.load(f)\n",
    "\n",
    "\n",
    "with open('sunilChetri.pkl', 'rb') as f:\n",
    "    chetri_tweets = pickle.load(f)\n",
    "\n",
    "with open('arijit.pkl', 'rb') as f:\n",
    "    arijit_tweets = pickle.load(f)\n",
    "\n"
   ]
  },
  {
   "cell_type": "markdown",
   "metadata": {},
   "source": [
    "## Calculate average number of words\n",
    "\n",
    "I have calculated the number of words in tweets and then found the average of words in tweets.\n",
    "For this I have used two functions, calculateLength and calculateAverage.\n",
    "calculateLength is used to find the length of the text in a tweet. After finding the length of the text, Average is calculated\n",
    "using the formula sum/length."
   ]
  },
  {
   "cell_type": "code",
   "execution_count": 3,
   "metadata": {
    "scrolled": true
   },
   "outputs": [],
   "source": [
    "def calculateLength(text):\n",
    "    return len(text.lower().split())\n",
    "\n",
    "def calculateAverage(tokens):\n",
    "    return sum(tokens)/len(tokens) \n"
   ]
  },
  {
   "cell_type": "code",
   "execution_count": 12,
   "metadata": {},
   "outputs": [],
   "source": [
    "kohli_diversities = []\n",
    "for tweet in kohli_tweets:\n",
    "    kohli_diversities.append(calculateLength(tweet.text))\n",
    "\n",
    "\n",
    "chetri_diversities = []\n",
    "for tweet in chetri_tweets:\n",
    "    chetri_diversities.append(calculateLength(tweet.text))\n",
    "\n",
    "\n",
    "arijit_diversities = []\n",
    "for tweet in arijit_tweets:\n",
    "    arijit_diversities.append(calculateLength(tweet.text))\n",
    "\n",
    "wordsAverage = {'Virat Kohli': calculateAverage(kohli_diversities), 'Sunil Chetri': calculateAverage(chetri_diversities), 'Arijit': calculateAverage(arijit_diversities)}\n"
   ]
  },
  {
   "cell_type": "markdown",
   "metadata": {},
   "source": [
    "## Visualisation of data using bar graph"
   ]
  },
  {
   "cell_type": "code",
   "execution_count": 13,
   "metadata": {},
   "outputs": [
    {
     "data": {
      "image/png": "[encoded data removed]",
      "text/plain": [
       "<Figure size 432x288 with 1 Axes>"
      ]
     },
     "metadata": {
      "needs_background": "light"
     },
     "output_type": "display_data"
    }
   ],
   "source": [
    "import matplotlib.pyplot as plt\n",
    "heights = list(wordsAverage.values())\n",
    "heights.sort(reverse=True)\n",
    "plt.bar(range(len(heights)),heights)\n",
    "plt.title('Average number of words')\n",
    "plt.ylabel('Average words')\n",
    "keys = list(wordsAverage.keys())\n",
    "keys.sort(reverse=True, key=lambda x: wordsAverage[x])\n",
    "plt.xticks(range(len(keys)),keys)\n",
    "plt.show() "
   ]
  },
  {
   "cell_type": "markdown",
   "metadata": {},
   "source": [
    "## Conclusion\n",
    "\n",
    "The Average number of words used by all the 3 members is listed as follows:\n",
    "\n",
    "- Sunil Chetri(@chetrisunil11): 20.3 Average words\n",
    "- Virat Kohli(@imVkohli):       12.9 Average words\n",
    "- Arijit(@ARIJIT__SINGH):       11.6 Average words\n",
    "\n",
    "From the above bar graph, I have observed that the number of words in a tweet made by Sunil Chetri(@chetrisunil11) is higher compared to Virat Kohli(@imVkohli) and Arijit(@ARIJIT__SINGH) and also the number of words in a tweet made by Arijit is slightly lower than Virat Kohli and much more lower than Sunil Chetri. Finally, we can come to a conclusion is that Sunil Chetri used highest number of words in his tweets compared to the other two people. "
   ]
  },
  {
   "cell_type": "code",
   "execution_count": null,
   "metadata": {},
   "outputs": [],
   "source": []
  }
 ],
 "metadata": {
  "kernelspec": {
   "display_name": "Python 3",
   "language": "python",
   "name": "python3"
  },
  "language_info": {
   "codemirror_mode": {
    "name": "ipython",
    "version": 3
   },
   "file_extension": ".py",
   "mimetype": "text/x-python",
   "name": "python",
   "nbconvert_exporter": "python",
   "pygments_lexer": "ipython3",
   "version": "3.7.3"
  }
 },
 "nbformat": 4,
 "nbformat_minor": 2
}
